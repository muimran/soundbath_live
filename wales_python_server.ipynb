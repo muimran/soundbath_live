{
  "cells": [
    {
      "cell_type": "markdown",
      "source": [
        "###THE BELOW CODE WORKS AND CUTS OUT ANY DATA THAT IS MISSING LAT AND LONG COORDINATES, AND ELIMINATES ANY DATA WHERE RAINFALL IS A NEGATIVE VALUE"
      ],
      "metadata": {
        "id": "zzm4kFH6ncMA"
      },
      "id": "zzm4kFH6ncMA"
    },
    {
      "cell_type": "code",
      "source": [
        "import csv\n",
        "import requests\n",
        "\n",
        "# Function to fetch rainfall measurements\n",
        "def get_wales_rainfall_measurements():\n",
        "    walesurl = 'https://api.naturalresources.wales/rivers-and-seas/v1/api/StationData?ParamNameEN=rainfall&StatusEN=online'\n",
        "    headers = {'Ocp-Apim-Subscription-Key': '413a14f470f64b70a010cfa3b4ed6a79'}\n",
        "    walesresponse = requests.get(walesurl, headers=headers)\n",
        "    if walesresponse.status_code == 200:\n",
        "        walesdata = walesresponse.json()\n",
        "        return walesdata\n",
        "    else:\n",
        "        return []\n",
        "\n",
        "# Call the function and store the returned data\n",
        "wales_rainfall_measurements = get_wales_rainfall_measurements()\n",
        "\n",
        "# If there are no measurements, exit the script\n",
        "if not wales_rainfall_measurements:\n",
        "    print(\"No measurements found.\")\n",
        "    exit()\n",
        "\n",
        "# Specify the name of your CSV file\n",
        "filename = \"rainfall_measurements.csv\"\n",
        "\n",
        "# Open a file to write, 'w' mode is for writing, newline and encoding specified for file format\n",
        "with open(filename, mode='w', newline='', encoding='utf-8') as file:\n",
        "    # Create a CSV writer object\n",
        "    writer = csv.writer(file)\n",
        "\n",
        "    # Writing the header row of the CSV file\n",
        "    writer.writerow([\"Station Name\", \"Latitude\", \"Longitude\", \"Measurement Value (mm)\"])\n",
        "\n",
        "    # Iterating through each measurement in the data\n",
        "    for measurement in wales_rainfall_measurements:\n",
        "        # Extracting station name, latitude, longitude, and rainfall value\n",
        "        wales_station_name = measurement.get('nameEN')\n",
        "        wales_coordinates = measurement.get('coordinates')\n",
        "        wales_latitude = wales_coordinates.get('latitude')\n",
        "        wales_longitude = wales_coordinates.get('longitude')\n",
        "        wales_parameters = measurement.get('parameters')\n",
        "\n",
        "        # Check if latitude, longitude are non-zero and rainfall value is non-negative before writing the row\n",
        "        if wales_latitude != 0 and wales_longitude != 0 and wales_parameters:\n",
        "            wales_rainfall_value = wales_parameters[0].get('latestValue')\n",
        "            if wales_rainfall_value is not None and wales_rainfall_value >= 0:\n",
        "                writer.writerow([wales_station_name, wales_latitude, wales_longitude, wales_rainfall_value])\n",
        "\n",
        "print(f\"Data has been written to {filename}\")\n",
        "\n",
        "from google.colab import files\n",
        "\n",
        "files.download('rainfall_measurements.csv')"
      ],
      "metadata": {
        "colab": {
          "base_uri": "https://localhost:8080/",
          "height": 35
        },
        "id": "tkBN8F53mD0C",
        "outputId": "1fa84066-a969-4396-c61a-6a60958894ab"
      },
      "id": "tkBN8F53mD0C",
      "execution_count": 29,
      "outputs": [
        {
          "output_type": "stream",
          "name": "stdout",
          "text": [
            "Data has been written to rainfall_measurements.csv\n"
          ]
        },
        {
          "output_type": "display_data",
          "data": {
            "text/plain": [
              "<IPython.core.display.Javascript object>"
            ],
            "application/javascript": [
              "\n",
              "    async function download(id, filename, size) {\n",
              "      if (!google.colab.kernel.accessAllowed) {\n",
              "        return;\n",
              "      }\n",
              "      const div = document.createElement('div');\n",
              "      const label = document.createElement('label');\n",
              "      label.textContent = `Downloading \"${filename}\": `;\n",
              "      div.appendChild(label);\n",
              "      const progress = document.createElement('progress');\n",
              "      progress.max = size;\n",
              "      div.appendChild(progress);\n",
              "      document.body.appendChild(div);\n",
              "\n",
              "      const buffers = [];\n",
              "      let downloaded = 0;\n",
              "\n",
              "      const channel = await google.colab.kernel.comms.open(id);\n",
              "      // Send a message to notify the kernel that we're ready.\n",
              "      channel.send({})\n",
              "\n",
              "      for await (const message of channel.messages) {\n",
              "        // Send a message to notify the kernel that we're ready.\n",
              "        channel.send({})\n",
              "        if (message.buffers) {\n",
              "          for (const buffer of message.buffers) {\n",
              "            buffers.push(buffer);\n",
              "            downloaded += buffer.byteLength;\n",
              "            progress.value = downloaded;\n",
              "          }\n",
              "        }\n",
              "      }\n",
              "      const blob = new Blob(buffers, {type: 'application/binary'});\n",
              "      const a = document.createElement('a');\n",
              "      a.href = window.URL.createObjectURL(blob);\n",
              "      a.download = filename;\n",
              "      div.appendChild(a);\n",
              "      a.click();\n",
              "      div.remove();\n",
              "    }\n",
              "  "
            ]
          },
          "metadata": {}
        },
        {
          "output_type": "display_data",
          "data": {
            "text/plain": [
              "<IPython.core.display.Javascript object>"
            ],
            "application/javascript": [
              "download(\"download_4d2a5cb0-6a3a-4981-a313-86d5c118d943\", \"rainfall_measurements.csv\", 15014)"
            ]
          },
          "metadata": {}
        }
      ]
    },
    {
      "cell_type": "code",
      "execution_count": null,
      "id": "53e5a204-a6fd-4f36-8fd9-468d16d7efea",
      "metadata": {
        "id": "53e5a204-a6fd-4f36-8fd9-468d16d7efea"
      },
      "outputs": [],
      "source": []
    }
  ],
  "metadata": {
    "kernelspec": {
      "display_name": "Python 3 (ipykernel)",
      "language": "python",
      "name": "python3"
    },
    "language_info": {
      "codemirror_mode": {
        "name": "ipython",
        "version": 3
      },
      "file_extension": ".py",
      "mimetype": "text/x-python",
      "name": "python",
      "nbconvert_exporter": "python",
      "pygments_lexer": "ipython3",
      "version": "3.10.11"
    },
    "colab": {
      "provenance": []
    }
  },
  "nbformat": 4,
  "nbformat_minor": 5
}